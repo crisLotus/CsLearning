{
 "cells": [
  {
   "cell_type": "code",
   "execution_count": 32,
   "metadata": {
    "collapsed": true
   },
   "outputs": [
    {
     "name": "stdout",
     "output_type": "stream",
     "text": [
      "        名称  竞争力排名|总排名  省市  类型\n0  中国科学院大学          1  北京  理工\n1     北京大学          2  北京  综合\n2     清华大学          3  北京  理工\n3     浙江大学          4  浙江  综合\n4   上海交通大学          5  上海  综合\n         名称  计算机科学与技术学科排名   学校代码\n0      清华大学             1  10003\n1  国防科学技术大学             2  90002\n2      北京大学             3  10001\n3  北京航空航天大学             4  10006\n4   哈尔滨工业大学             5  10213\n"
     ]
    }
   ],
   "source": [
    "import pandas as pd\n",
    "jingzhengli = pd.read_excel('data/2017研究生院竞争力排行榜.xlsx')\n",
    "jisuanji_yingyong = pd.read_excel('data/2012计算机科学与技术排名.xlsx')\n",
    "\n",
    "total_rank = jingzhengli[['名称', '竞争力排名|总排名', '省市', '类型']]\n",
    "sci_rank = jisuanji_yingyong[['名称', '计算机科学与技术学科排名', '学校代码']]\n",
    "print(total_rank.head())\n",
    "print(sci_rank.head())"
   ]
  },
  {
   "cell_type": "code",
   "execution_count": 35,
   "metadata": {},
   "outputs": [],
   "source": [
    "result = pd.merge(sci_rank, total_rank, how='left', on=['名称', '名称'])\n",
    "result.head()\n",
    "result.to_csv('data/merge.csv')"
   ]
  },
  {
   "cell_type": "code",
   "execution_count": null,
   "metadata": {},
   "outputs": [],
   "source": [
    ""
   ]
  }
 ],
 "metadata": {
  "kernelspec": {
   "display_name": "Python 2",
   "language": "python",
   "name": "python2"
  },
  "language_info": {
   "codemirror_mode": {
    "name": "ipython",
    "version": 2.0
   },
   "file_extension": ".py",
   "mimetype": "text/x-python",
   "name": "python",
   "nbconvert_exporter": "python",
   "pygments_lexer": "ipython2",
   "version": "2.7.6"
  }
 },
 "nbformat": 4,
 "nbformat_minor": 0
}